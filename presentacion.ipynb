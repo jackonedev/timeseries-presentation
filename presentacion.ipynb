{
 "cells": [
  {
   "cell_type": "raw",
   "metadata": {},
   "source": [
    "---\n",
    "title: +#idforideas +#idea6\n",
    "author: jackonedev\n",
    "description: Comertial Analysis for a Car Service Company\n",
    "output: slides\n",
    "---"
   ]
  },
  {
   "cell_type": "markdown",
   "metadata": {
    "slideshow": {
     "slide_type": "slide"
    }
   },
   "source": [
    "<h1><u>PROYECTO</u>:</h1>\n",
    "<div class=\"contenido-presentacion\" style=\"position:relative;left:50px;\">\n",
    "    <center>\n",
    "        <a href=\"https://automotorsqueretaro.negocio.site/\"><h3>AUTOMOTORS<br/>Servicio Automotriz</h3></a>\n",
    "        <img width=\"400px\" src=\"https://user-images.githubusercontent.com/113382260/193469015-485cc23c-faef-4897-8617-2a5ee17470d7.png\"/>\n",
    "        <a href=\"https://idforideas.com/\"><br />\n",
    "        <b>#idforideas - #idea6</b></a><br />\n",
    "        <b>Año 2022</b><br />\n",
    "    </center>\n",
    "</div><br />\n",
    "<i>Agustín F. Stigliano - Python Developer  |  Data Scientist</i>"
   ]
  },
  {
   "cell_type": "markdown",
   "metadata": {
    "slideshow": {
     "slide_type": "slide"
    }
   },
   "source": [
    "<div style=\"position:relative;height:600px;\">\n",
    "    <div>\n",
    "        <h1><u>TEMAS</u>:</h1><br />\n",
    "        <center>\n",
    "            <h2>Análisis comercial de la empresa</h2>\n",
    "            <h2>Time Series - Data Science - Webapp Deploy</h2>\n",
    "        </center>\n",
    "    </div><br /><br />\n",
    "    <div>\n",
    "        <h1><u>CONTENIDO</u>:</h1><br />\n",
    "        <center>\n",
    "            <ol>\n",
    "                <li><b>Consigna del cliente</b></li>\n",
    "                <li><b>Introducción a la empresa</b></li>\n",
    "                <li><b>Desarrollo del proyecto</b></li>\n",
    "                <li><b>Conclusión</b></li>\n",
    "            </ol>\n",
    "        </center>\n",
    "    </div>\n",
    "</div>"
   ]
  },
  {
   "cell_type": "markdown",
   "metadata": {
    "slideshow": {
     "slide_type": "slide"
    }
   },
   "source": [
    "<div>\n",
    "    <h2>1. Consigna</h2>\n",
    "    <a href=\"https://idforideas.com/proyectos/idea6/idea6.zip\">DESCARGA AQUI</a>\n",
    "    <br /><br />\n",
    "    <h2>Resumen</h2>\n",
    "    <h3><u>Descripción del proyecto</u></h3>\n",
    "    <p>\n",
    "        Nuestro <b>cliente</b> es una <b>compañía Colombiana</b> que ofrece a sus clientes productos y servicios del rubro automotríz.\n",
    "        Contamos con <b>datos</b> internos de la empresa como Ventas, <b>Empleados</b>, <b>Familia</b>, <b>Sede</b>, entre otros.<br/>\n",
    "        Requieren <b>analizar el impacto de la pandemia</b> para evaluar si vender la empresa, si quiebra o si salir a buscar inversores para expansión del negocio hacia otros países.\n",
    "    </p>\n",
    "</div>"
   ]
  },
  {
   "cell_type": "markdown",
   "metadata": {
    "slideshow": {
     "slide_type": "subslide"
    }
   },
   "source": [
    "<div>\n",
    "    <h3><u>Objetivo</u></h3>\n",
    "    <p>El cliente necesita contar con toda la información ya analizada para tomar una decisión final.</p><br />\n",
    "    <h3><u>Consideraciones</u></h3>\n",
    "    <ul>\n",
    "        <li>La decisión de la empresa tiene que verse reflejada tanto en la rentabilidad, como también en el manejo y cantidad de personal.</li>\n",
    "    <li><b>Expresar los valores en unidades de dolar (hacer conversión con peso colombiano).</b></li>\n",
    "    </ul>\n",
    "</div>"
   ]
  },
  {
   "cell_type": "markdown",
   "metadata": {
    "slideshow": {
     "slide_type": "slide"
    }
   },
   "source": [
    "<h2>2. Introducción</h2>\n",
    "<p>Vamos a arrancar analizando las <b>Ventas</b> de nuestro cliente, éste se encuentra en ejercicio <b>desde el año 2016</b>.\n",
    "La información con la que contamos llega <b>hasta finales del 2020</b>.<br /><br />\n",
    "Luego analizaremos la variable <b>Familia</b>, que se divide en 5 rubros comerciales, <b>SERVICIOS</b>, <b>REENCAUCHE</b>, <b>LLANTA</b>, <b>LUBRICANTES</b>, <b>FILTROS</b>.<br />Desarrollamos dos enfoques adicionales al respecto, el <b>primer enfoque</b> fue crear dos hiper-categorías: <b>producto</b> y <b>servicio</b>. El <b>segundo enfoque</b> fue indagar más respecto a la variable <b>Familia_SERVICIOS</b> y la dividimos en subcategorías.<br /><br />\n",
    "La segunda variable categórica que analizaremos es <b>Sede</b>, donde buscamos describir el rendimiento económico en función de la ubicación geográfica. Con el uso de histogramas pudimos obtener la <b>rentabilidad porcentual periódica</b>.<br />\n",
    "Para la variable <b>Empleado</b> se hizo un análisis similar al anterior, lo que se buscó fue medir el rendimiento y crear una escala de mérito.<br />\n",
    "<br />\n",
    "Se analiza todo el período <b>(2016-2020)</b> y por separado el último tramo <b>(2019-2020)</b>. Lo importante a recalcar es que los gráficos cuyo período en el titulo es (2019-2020) quiere decir que no considera los datos anteriores.\n",
    "</p>"
   ]
  },
  {
   "cell_type": "markdown",
   "metadata": {
    "slideshow": {
     "slide_type": "slide"
    }
   },
   "source": [
    "<div>\n",
    "    <h5><b>¿Cómo funcionan los gráficos interactivos?</b></h5>\n",
    "    <center>\n",
    "        <ul>\n",
    "            <li>Arriba a la derecha tiene la <b>barra de herramientas</b> donde puede escoger entre zoom, pan, descargar imagen png, etc.</li>\n",
    "            <li>La leyenda \"variables\" posee la capacidad de activar o desactivar dicha variable <b>haciendo clic</b> sobre su nombre</li>\n",
    "            <li>Si hacemos <b>doble clic</b> sobre alguna variable de la leyenda se desactivarán todas excepto ella</li>\n",
    "            <li>Pasando el puntero del ratón sobre algún elemento del gráfico, nos aparecerá un cartel con la información del elemento</li>\n",
    "        </ul>\n",
    "    </center>\n",
    "</div>"
   ]
  },
  {
   "cell_type": "markdown",
   "metadata": {
    "slideshow": {
     "slide_type": "slide"
    }
   },
   "source": [
    "<h2>3. Desarrollo</h2>\n",
    "<ul>\n",
    "    <li>3.1) Ventas totales</li>\n",
    "    <li>3.2) Análisis por Familia o Rubro</li>\n",
    "    <li>3.3) Análisis Sede</li>\n",
    "    <li>3.4) Análisis Empleado</li>\n",
    "</ul>"
   ]
  },
  {
   "cell_type": "markdown",
   "metadata": {
    "slideshow": {
     "slide_type": "slide"
    }
   },
   "source": [
    "<div>\n",
    "    <h4><b>3.1) Ventas Totales</b></h4>\n",
    "    <center>\n",
    "        <div><iframe width=\"550px\" height=\"250px\" frameborder=\"0\" scrolling=\"no\" src=\"//plotly.com/~af.st22/17.embed\"></iframe></div>\n",
    "        <div><iframe width=\"550px\" height=\"250px\" frameborder=\"0\" scrolling=\"no\" src=\"//plotly.com/~af.st22/19.embed\"></iframe></div>\n",
    "    </center>\n",
    "</div>"
   ]
  },
  {
   "cell_type": "markdown",
   "metadata": {
    "slideshow": {
     "slide_type": "subslide"
    }
   },
   "source": [
    "<div>\n",
    "    <h4><b>3.1) Ventas Totales</b></h4>\n",
    "    <h5>Anotaciones pertinentes</h5>\n",
    "    <ul>\n",
    "        <li>Las Ventas totales ascienden los 22M de dólares durante todo el período</li>\n",
    "        <li>La cantidad de ventas promedio rondaba las 6000 transacciones mensuales</li>\n",
    "        <li>El impacto de la pandemia en claro</li>\n",
    "    <ul>\n",
    "</div>"
   ]
  },
  {
   "cell_type": "markdown",
   "metadata": {
    "slideshow": {
     "slide_type": "slide"
    }
   },
   "source": [
    "<div>\n",
    "    <h4><b>3.2) Análisis por Familia o Rubro</b></h4>\n",
    "    <table>\n",
    "        <tr>\n",
    "            <td><iframe width=\"450\" height=\"250\" frameborder=\"0\" scrolling=\"no\" src=\"//plotly.com/~af.st22/25.embed\"></iframe></td>\n",
    "            <td><iframe width=\"450\" height=\"250\" frameborder=\"0\" scrolling=\"no\" src=\"//plotly.com/~af.st22/35.embed\"></iframe></td>\n",
    "        </tr>\n",
    "        <tr>\n",
    "            <td><iframe width=\"450\" height=\"250\" frameborder=\"0\" scrolling=\"no\" src=\"//plotly.com/~af.st22/27.embed\"></iframe></td>\n",
    "            <td><iframe width=\"450\" height=\"250\" frameborder=\"0\" scrolling=\"no\" src=\"//plotly.com/~af.st22/29.embed\"></iframe></td>\n",
    "        </tr>\n",
    "    </table>\n",
    "    <p><b>producto:</b> LLANTA + LUBRICANTES + FILTRO<br /><b>servicio:</b> SERVICIO + REENCAUCHE</p>\n",
    "</div>"
   ]
  },
  {
   "cell_type": "markdown",
   "metadata": {
    "slideshow": {
     "slide_type": "subslide"
    }
   },
   "source": [
    "<div>\n",
    "    <h4><b>3.2) Análisis por Familia o Rubro</b></h4>\n",
    "    <div><iframe width=\"500px\" height=\"250px\" frameborder=\"0\" scrolling=\"no\" src=\"//plotly.com/~af.st22/31.embed\"></iframe></div>\n",
    "    <div><iframe width=\"500px\" height=\"250px\" frameborder=\"0\" scrolling=\"no\" src=\"//plotly.com/~af.st22/39.embed\"></iframe></div>\n",
    "    <p><b>producto:</b> El 63% de los meses reportó ingresos en el rango de 275.000 y 475.000 [USD]<br /><b>servicio:</b> El 70% de los meses reportó ingresos en el rango de los 75.000 y 175.000 [USD]</p>\n",
    "</div>"
   ]
  },
  {
   "cell_type": "markdown",
   "metadata": {
    "slideshow": {
     "slide_type": "subslide"
    }
   },
   "source": [
    "<div>\n",
    "    <h4><b>3.2) Análisis por Familia o Rubro</b></h4>\n",
    "    <div><iframe width=\"500px\" height=\"250px\" frameborder=\"0\" scrolling=\"no\" src=\"//plotly.com/~af.st22/41.embed\"></iframe></div>\n",
    "    <div><iframe width=\"500px\" height=\"250px\" frameborder=\"0\" scrolling=\"no\" src=\"//plotly.com/~af.st22/43.embed\"></iframe></div>\n",
    "</div>"
   ]
  },
  {
   "cell_type": "markdown",
   "metadata": {
    "slideshow": {
     "slide_type": "subslide"
    }
   },
   "source": [
    "<div>\n",
    "    <h4><b>3.2) Análisis por Familia o Rubro</b></h4>\n",
    "    <h5>Anotaciones pertinentes</h5>\n",
    "    <ul>\n",
    "        <li>LUBRICANTES generó el 0.44% del total de ingresos de la compañia</li>\n",
    "        <li>FILTRO generó el 0.24% del total de ingresos de la compañia</li>\n",
    "        <li>El comportamiento de la demanda de las <b>sub-categorías de SERVICIOS</b> no presenta irregularidades</li>\n",
    "        <li>El TOP 3 de las subcategorías por volumen de ventas:<ul>\n",
    "            <li>Servicio de contrato</li>\n",
    "            <li>Alineación</li>\n",
    "            <li>Rotación</li>\n",
    "        </ul>\n",
    "        </li>\n",
    "        <li>Subcategorías que desde el 2019 alcanzaron ingresos semanales en el rango de 750 y 2750 [USD]:<ul>\n",
    "            <li>Reparación y Mano de Obra: 18 semanas</li>\n",
    "            <li>Montaje: 6 semanas</li>\n",
    "            <li>Balanceo: 22 semanas</li>\n",
    "            <li>Llanta: 8 semanas</li>\n",
    "        </ul>\n",
    "        </li>\n",
    "    </ul>\n",
    "</div>"
   ]
  },
  {
   "cell_type": "markdown",
   "metadata": {
    "slideshow": {
     "slide_type": "subslide"
    }
   },
   "source": [
    "<div>\n",
    "    <h5>Anotaciones pertinentes</h5>\n",
    "    <ul>\n",
    "        <li>Especial mención a las subcategorías que desde el 2019:<ul>\n",
    "            <li>Balanceo, Reparación: 1 semana reportó ingresos entre 2750 y 3250 [USD]</li>\n",
    "            <li>Reparación: 1 semana reportó ingresos entre 3750 y 4250 [USD]</li>\n",
    "            <li>Desvare Ruta: 2 semanas reportó ingresos entre 5750 y 6250 [USD]</li>\n",
    "            <li>Desvare Ruta: 2 semanas reportó ingresos entre 6250 y 6750 [USD]</li>\n",
    "            <li>Desvare Ruta: 2 semanas reportó ingresos entre 6750 y 7250 [USD]</li>\n",
    "        </ul>\n",
    "        </li>\n",
    "    </ul>\n",
    "</div>"
   ]
  },
  {
   "cell_type": "markdown",
   "metadata": {
    "slideshow": {
     "slide_type": "slide"
    }
   },
   "source": [
    "<div>\n",
    "    <h4><b>3.3) Análisis Sede</b></h4>\n",
    "    <div><iframe width=\"500px\" height=\"250px\" frameborder=\"0\" scrolling=\"no\" src=\"//plotly.com/~af.st22/45.embed\"></iframe></div>\n",
    "    <div><iframe width=\"500px\" height=\"250px\" frameborder=\"0\" scrolling=\"no\" src=\"//plotly.com/~af.st22/47.embed\"></iframe></div>\n",
    "    <p><b style=\"color:red\";>RECORDA</b><b> LOS GRAFICOS SON INTERACTIVOS</b><br /><i>Intentá activar o desactivar alguna variable desde la leyenda y obtené los valores apuntando el cursor sobre el elemento del gráfico</i></p>\n",
    "</div>"
   ]
  },
  {
   "cell_type": "markdown",
   "metadata": {
    "slideshow": {
     "slide_type": "subslide"
    }
   },
   "source": [
    "<div>\n",
    "    <h4><b>3.3) Análisis Sede</b></h4>\n",
    "    <div><iframe width=\"500px\" height=\"250px\" frameborder=\"0\" scrolling=\"no\" src=\"//plotly.com/~af.st22/49.embed\"></iframe></div>\n",
    "    <div><iframe width=\"500px\" height=\"250px\" frameborder=\"0\" scrolling=\"no\" src=\"//plotly.com/~af.st22/53.embed\"></iframe></div>\n",
    "</div>"
   ]
  },
  {
   "cell_type": "markdown",
   "metadata": {
    "slideshow": {
     "slide_type": "subslide"
    }
   },
   "source": [
    "<h4><b>3.3) Análisis Sede</b></h4>\n",
    "<h5>Anotaciones pertinentes</h5>\n",
    "<ul>\n",
    "    <li>Grandes flotas:</li><ul>\n",
    "        <li>Desde Enero 2019 hasta Octubre del 2019 las sedes \"Calle 80\" y \"Grandes flotas\" sostuvieron rendimientos similares</li>\n",
    "        <li>Previo a fin de año \"Grandes flotas\" empezó a incrementar su volumen de ventas</li>\n",
    "        <li>La pandemia parece haber afectado a todas las áreas por igual</li>\n",
    "        <li>Posiblemente la recuperación de \"Grandes_flotas\" sea más \"espontánea\" porque acarrea cierta \"inercia\"</li>\n",
    "    </ul>\n",
    "</ul>"
   ]
  },
  {
   "cell_type": "markdown",
   "metadata": {
    "slideshow": {
     "slide_type": "subslide"
    }
   },
   "source": [
    "<div>\n",
    "    <h5>Anotaciones pertinentes</h5>\n",
    "    <ul>\n",
    "        <li><b>Sede Calle 80</b><ul>\n",
    "            <li><u>Rendimiento mensual histórico</u>:<ul>\n",
    "                <li>28% entre 0 y 10.000 [USD]</li>\n",
    "                <li>28% entre 30.000 y 50.000 [USD]</li>\n",
    "                <li>38% entre 50.000 y 70.000 [USD]</li>\n",
    "                <li><i>\"PTLFP\"</i> el resto no influye</li>\n",
    "            </ul></li>\n",
    "            <li><u>Rendimiento mensual período 2019-2020</u>:<ul>\n",
    "                <li>41% entre 0 y 25.000 [USD]</li>\n",
    "                <li>59% entre 25.000 y 75.000 [USD]</li>\n",
    "            </ul>\n",
    "            </li>\n",
    "        </ul>\n",
    "        </li><br />\n",
    "        <li><b>Sede Av Chile</b><ul>\n",
    "            <li><u>Rendimiento mensual histórico</u>:<ul>\n",
    "                <li>35% entre 0 y 10.000 [USD]</li>\n",
    "                <li>38% entre 10.000 y 30.000 [USD]</li>\n",
    "                <li>26% entre 30.000 y 50.000 [USD]</li>\n",
    "            </ul></li>\n",
    "            <li><u>Rendimiento mensual período 2019-2020</u>:<ul>\n",
    "                <li>75% entre 0 y 25.000 [USD]</li>\n",
    "                <li>25% entre 25.000 y 75.000 [USD]</li>\n",
    "            </ul>\n",
    "            </li>\n",
    "        </ul>\n",
    "        </li>\n",
    "    </ul>\n",
    "    <p><i>\"PTLFP\"</i>: Para Todos Los Fines Prácticos</p>\n",
    "</div>"
   ]
  },
  {
   "cell_type": "markdown",
   "metadata": {
    "slideshow": {
     "slide_type": "subslide"
    }
   },
   "source": [
    "<div>\n",
    "    <h5>Anotaciones pertinentes</h5>\n",
    "    <ul>\n",
    "        <li><b>Sede Calle 13</b><ul>\n",
    "            <li><u>Rendimiento mensual histórico</u>:<ul>\n",
    "                <li>30% entre 0 y 10.000 [USD]</li>\n",
    "                <li>66% entre 10.000 y 30.000 [USD]</li>\n",
    "                <li><i>\"PTLFP\"</i> el resto no influye</li>\n",
    "            </ul></li>\n",
    "            <li><u>Rendimiento mensual período 2019-2020</u>:<ul>\n",
    "                <li>83% entre 0 y 25.000 [USD]</li>\n",
    "                <li>17% entre 25.000 y 75.000 [USD]</li>\n",
    "            </ul>\n",
    "            </li>\n",
    "        </ul>\n",
    "        </li><br />\n",
    "        <li><b>Sede Santa Ana</b><ul>\n",
    "            <li><u>Rendimiento mensual histórico</u>:<ul>\n",
    "                <li>31% entre 0 y 10.000 [USD]</li>\n",
    "                <li>66% entre 10.000 y 30.000 [USD]</li>\n",
    "                <li><i>\"PTLFP\"</i> el resto no influye</li>\n",
    "            </ul></li>\n",
    "            <li><u>Rendimiento mensual período 2019-2020</u>:<ul>\n",
    "                <li>100% entre 0 y 25.000 [USD]</li>\n",
    "            </ul>\n",
    "            </li>\n",
    "        </ul>\n",
    "        </li><br />\n",
    "    </ul>\n",
    "</div>"
   ]
  },
  {
   "cell_type": "markdown",
   "metadata": {
    "slideshow": {
     "slide_type": "subslide"
    }
   },
   "source": [
    "<div>\n",
    "<h5>Anotaciones pertinentes</h5>\n",
    "    <ul>\n",
    "        <li><b>Sede Suba</b>\n",
    "            <ul>\n",
    "                <li><u>Rendimiento mensual histórico</u>:\n",
    "                    <ul>\n",
    "                        <li>56% entre 0 y 10.000 [USD]</li>\n",
    "                        <li>44% entre 10.000 y 30.000 [USD]</li>\n",
    "                    </ul>\n",
    "                </li>\n",
    "                <li><u>Rendimiento mensual período 2019-2020</u>:\n",
    "                    <ul>\n",
    "                        <li>100% entre 0 y 25.000 [USD]</li>\n",
    "                    </ul>\n",
    "                </li>\n",
    "            </ul>\n",
    "        </li>\n",
    "    </ul>\n",
    "</div>"
   ]
  },
  {
   "cell_type": "markdown",
   "metadata": {
    "slideshow": {
     "slide_type": "slide"
    }
   },
   "source": [
    "<div>\n",
    "    <h4><b>3.4) Análisis Empleado</b></h4>\n",
    "    <div><iframe width=\"500px\" height=\"250px\" frameborder=\"0\" scrolling=\"no\" src=\"//plotly.com/~af.st22/55.embed\"></iframe></div>\n",
    "    <div><iframe width=\"500px\" height=\"250px\" frameborder=\"0\" scrolling=\"no\" src=\"//plotly.com/~af.st22/57.embed\"></iframe></div>\n",
    "</div>"
   ]
  },
  {
   "cell_type": "markdown",
   "metadata": {
    "slideshow": {
     "slide_type": "subslide"
    }
   },
   "source": [
    "<div>\n",
    "    <h4><b>3.4) Análisis Empleado</b></h4>\n",
    "    <h5>Anotaciones pertinentes</h5>\n",
    "    <p>Nos referimos a los empleados por su nombre y en paréntesis colocamos su Id.</p>\n",
    "    <ul>\n",
    "        <li><b>TOP 5 de Empleados:</b></li><ol>\n",
    "            <li>Esteban Damico (2)</li>\n",
    "            <li>Julian Quevedo (3)</li>\n",
    "            <li>Juan Pastran (1)</li>\n",
    "            <li>Mathiel Perizo (29)</li>\n",
    "            <li>Valentin Quintero (5)</li>\n",
    "        </ol>\n",
    "    </ul>\n",
    "</div>"
   ]
  },
  {
   "cell_type": "markdown",
   "metadata": {
    "slideshow": {
     "slide_type": "subslide"
    }
   },
   "source": [
    "<div>\n",
    "    <h5>Anotaciones pertinentes</h5>\n",
    "    <ul>\n",
    "        <li><b>Empleados que alcanzaron ingresos semanales entre 1.500 y 2.500 [USD] </b>(No están ordenados por mérito, se excluye el TOP 5):<ul>\n",
    "            <li>Javier Garay (14)</li>\n",
    "            <li>Tello German (24)</li>\n",
    "            <li>Emir Gimenez (27)</li>\n",
    "            <li>Luis Barquiel (36)</li>\n",
    "            <li>Pelaytat Axel (41)</li>\n",
    "            <li>Juan Casivar (44)</li>\n",
    "            <li>Nicolas Castro (45)</li>\n",
    "            <li>Franco Guardia (48)</li>\n",
    "            <li>Thian Navarro (50)</li>\n",
    "            <li>Tobías Quinteros (51)</li>\n",
    "            <li>Castro Milton (54)</li>\n",
    "            <li>Giovanni Chacon (55)</li>\n",
    "            <li>Theo Fernandez (56)</li>\n",
    "            <li>Alejandro Gimenez (57)</li>\n",
    "            <li>Jeremias Ventrice (61)</li>\n",
    "            <li>Nicolas Montaña (62)</li>\n",
    "            <li>Francisco Caballero (63)</li>\n",
    "            <li>Rodolfo Colmenares (66)</li><br />\n",
    "            </ul>\n",
    "        </li>\n",
    "    </ul>\n",
    "</div>"
   ]
  },
  {
   "cell_type": "markdown",
   "metadata": {
    "slideshow": {
     "slide_type": "subslide"
    }
   },
   "source": [
    "<div>\n",
    "    <h5>Anotaciones pertinentes</h5>\n",
    "    <ul>\n",
    "        <li><b>Méritos destacables</b> (se excluye Empleados TOP 5):<ul>\n",
    "            <li>Esteban Vera (67): cerró 1 semana con ventas entre 2.500 y 3.500 [USD]</li>\n",
    "            <li>Eduardo Monardez (64): cerró 1 semana con ventas entre 2.500 y 3.500 [USD]</li>\n",
    "            <li>Eduardo Monardez (64): cerró 1 semana con ventas entre 3.500 y 4.500 [USD]</li>\n",
    "            <li>Valentino Guiñez (47): cerró 4 semanas con ventas entre 3.500 y 4.500 [USD] </li>\n",
    "            <li>Valentino Guiñez (47): cerró 2 semanas con ventas entre 4.500 y 5.500</li>\n",
    "            <li>Valentino Guiñez (47): cerró 1 semana con ventas entre 5.500 y 6.500 [USD]</li>\n",
    "            <li>Valentino Guiñez (47): cerró 1 semana con ventas entre 7.500 y 8.500 [USD]</li>\n",
    "        </ul>\n",
    "        </li>\n",
    "    </ul>\n",
    "</div>"
   ]
  },
  {
   "cell_type": "markdown",
   "metadata": {
    "slideshow": {
     "slide_type": "slide"
    }
   },
   "source": [
    "<div>\n",
    "    <h2>4. Conclusión</h2>\n",
    "    <p>\n",
    "        A lo largo de los análisis pudimos identificar puntos débiles y puntos fuertes dentro de la Compañia. <br />\n",
    "        Con los datos que se nos fueron brindados, intenamos aportar un desarrollo claro a nuestro cliente sobre el estudio de las variables, y otorgando la capacidad a él de poder interactuar con la información.<br />\n",
    "        Las herramientas utilizadas están a disposición por si se quiere seguír indagando en búsqueda de información.<br /><br/>\n",
    "        Para ver una presentación del <b>Desarrollo Backend en Data Science</b> puede <a href=\"https://plotly.com/~af.st22/61/time-series-project-httpsautomotorsq/\">acceder AQUI</a>.<br /><br/>\n",
    "        Para acceder al <b>repositorio de desarrollo</b>: https://github.com/jackonedev/timeseries-project<br />\n",
    "        Para acceder al <b>repositorio de despliegue</b>: https://github.com/jackonedev/timeseries-presentation\n",
    "        <br /><br /><br />\n",
    "        <i style=\"font-size:32px\">Esperamos que hayas disfrutado de la presentación.</i>\n",
    "    </p>\n",
    "</div>"
   ]
  }
 ],
 "metadata": {
  "celltoolbar": "Slideshow",
  "kernelspec": {
   "display_name": "Python 3 (ipykernel)",
   "language": "python",
   "name": "python3"
  },
  "language_info": {
   "codemirror_mode": {
    "name": "ipython",
    "version": 3
   },
   "file_extension": ".py",
   "mimetype": "text/x-python",
   "name": "python",
   "nbconvert_exporter": "python",
   "pygments_lexer": "ipython3",
   "version": "3.10.2"
  },
  "vscode": {
   "interpreter": {
    "hash": "5a2ff7f99947e9797eb4fb1fda9407182da4294b0e4a1551680e343b78b106b0"
   }
  }
 },
 "nbformat": 4,
 "nbformat_minor": 2
}
