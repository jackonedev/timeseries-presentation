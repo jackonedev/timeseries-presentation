{
 "cells": [
  {
   "cell_type": "raw",
   "metadata": {},
   "source": [
    "---\n",
    "title: +#idforideas +#idea6\n",
    "author: jackonedev\n",
    "description: Comertial Analysis for a Car Service Company\n",
    "output: slides\n",
    "---"
   ]
  },
  {
   "cell_type": "markdown",
   "metadata": {
    "slideshow": {
     "slide_type": "slide"
    }
   },
   "source": [
    "<h1><u>PROYECTO</u>:</h1>\n",
    "<div class=\"contenido-presentacion\" style=\"position:relative;left:50px;\">\n",
    "    <center>\n",
    "        <a href=\"https://automotorsqueretaro.negocio.site/\"><h3>AUTOMOTORS<br/>Servicio Automotriz</h3></a>\n",
    "        <img width=\"400px\" src=\"https://lh3.googleusercontent.com/27iuCzrWW_yUfBy3C3v5ruBESciuVbaHnM_t2STD4UrVuO60R7KANjGtiT2wKTtI6Dux_d9CSfNxvAdaTX7Z9STSuRDeFu7kdWUi0qAdL0dqiHRibeIOhCVaYUBoSJFdYNB63erC50d_ze8QyBlrNvlfxfCi7Mc7Lt0BTJkH9IN6SoMpZDbo8AsPm3TqeR_fjchii3wJgRgGvtKyB7UIVYRVwX_KK09VjLRCUfjTQv98gp-JAsLvdul9lbAdHLnYGjnEkP8X9G8Q8VzLrhL7Kg3R8-RUzE4V9k4glWGWRPCKU0DteFt0TqidVPVzo7w2pS0nsgnZwd2HhhGzCWyIo1T5IiTZX3u-xx-eNrWepVib07EhUzOlkuRO5ScvvWgw0WiaQy-isC9PV-XMsgX2oVjNhOqgUj57xbUSdX-NHwO6RkldJWQ2GXZn1GO4Z797Vo8pmePtNLqUj--2Cbsa3qzUjtEdOo661PwyZtRES4YmetTl6N40U2d41AgrAJWNMjSz5iw8lm2oPxhFlVNtT0kYRsm_otyqysTBixK3EVhyC5YqZ2X2hLPWyvCUpRuN5aoXGRkJCqxDauDd67tAYj1ld122WjUNFqWk0jZP-GCSJRKpUALesypLU8VGFXnV_MtBbR0eALFQMTnE7ZkfjavrQmupkF4ihaT2A3jmNxdU69VfXfdWEQ_t7moAZ5UKr3LR0TDblvpZydNZHovisb_FaUbEb5qCEOGf0u52InwsWpT9AyUR03ksT8KFLwawj91xnougq9oB52d_IBKMNipqec2t5ul3bsHQB7zf33opTDt9evLUQMPnDcGjMss89VTD0rnxHhsI_GpNMNaxf_y2wLVCeOTwCXOle1OP3Ht5MSgZsVCMak5y035yoCNItTSp3KE0pFA-S-pflltuYOug8AUPeWf7wSwY3g=w600-h300-no?authuser=0\"/>\n",
    "        <a href=\"https://idforideas.com/\"><br />\n",
    "        <b>#idforideas - #idea6</b></a><br />\n",
    "        <b>Año 2022</b><br />\n",
    "    </center>\n",
    "</div><br />\n",
    "<i>Agustín F. Stigliano - Python Developer  |  Data Scientist</i>"
   ]
  },
  {
   "cell_type": "markdown",
   "metadata": {
    "slideshow": {
     "slide_type": "slide"
    }
   },
   "source": [
    "<div style=\"position:relative;height:600px;\">\n",
    "    <div>\n",
    "        <h1><u>TEMAS</u>:</h1><br />\n",
    "        <center>\n",
    "            <h2>Análisis comercial de la empresa</h2>\n",
    "            <h2>Time Series - Data Science - Webapp Deploy</h2>\n",
    "        </center>\n",
    "    </div><br /><br />\n",
    "    <div>\n",
    "        <h1><u>CONTENIDO</u>:</h1><br />\n",
    "        <center>\n",
    "            <ol>\n",
    "                <li><b>Consigna del cliente</b></li>\n",
    "                <li><b>Introducción a la empresa</b></li>\n",
    "                <li><b>Desarrollo del proyecto</b></li>\n",
    "                <li><b>Conclusión</b></li>\n",
    "            </ol>\n",
    "        </center>\n",
    "    </div>\n",
    "</div>"
   ]
  },
  {
   "cell_type": "markdown",
   "metadata": {
    "slideshow": {
     "slide_type": "slide"
    }
   },
   "source": [
    "<div>\n",
    "    <h2>1. Consigna</h2>\n",
    "    <a href=\"/src/consignas.pdf\">Puede acceder a la consigna AQUI</a>\n",
    "    <br /><br />\n",
    "    <h2>Resumen</h2>\n",
    "    <h3><u>Descripción del proyecto</u></h3>\n",
    "    <p>\n",
    "        Nuestro <b>cliente</b> es una <b>compañía Colombiana</b> que ofrece a sus clientes productos y servicios del rubro automotríz.\n",
    "        Contamos con <b>datos</b> internos de la empresa como Ventas, <b>Empleados</b>, <b>Familia</b>, <b>Sede</b>, entre otros.<br/>\n",
    "        Requieren <b>analizar el impacto de la pandemia</b> para evaluar si vender la empresa, si quiebra o si salir a buscar inversores para expansión del negocio hacia otros países.\n",
    "    </p>\n",
    "</div>"
   ]
  },
  {
   "cell_type": "markdown",
   "metadata": {
    "slideshow": {
     "slide_type": "subslide"
    }
   },
   "source": [
    "<div>\n",
    "    <h3><u>Objetivo</u></h3>\n",
    "    <p>El cliente necesita contar con toda la información ya analizada para tomar una decisión final.</p><br />\n",
    "    <h3><u>Consideraciones</u></h3>\n",
    "    <ul>\n",
    "        <li>La decisión de la empresa tiene que verse reflejada tanto en la rentabilidad, como también en el manejo y cantidad de personal.</li>\n",
    "    <li><b>Expresar los valores en unidades de dolar (hacer conversión con peso colombiano).</b></li>\n",
    "    </ul>\n",
    "</div>"
   ]
  },
  {
   "cell_type": "markdown",
   "metadata": {
    "slideshow": {
     "slide_type": "slide"
    }
   },
   "source": [
    "<h2>2. Introducción</h2>\n",
    "<p>Vamos a arrancar analizando las <b>Ventas</b> de nuestro cliente, éste se encuentra en ejercicio <b>desde el año 2016</b>.\n",
    "La información con la que contamos llega <b>hasta finales del 2021</b>.<br />\n",
    "Luego analizaremos la variable <b>Familia</b>, que se divide en 5 rubros comerciales, <b>SERVICIOS</b>, <b>REENCAUCHE</b>, <b>LLANTA</b>, <b>LUBRICANTES</b>, <b>FILTROS</b>. Desarrollamos dos enfoques al respecto, el <b>primer enfoque</b> fue crear dos hiper-categorías: <b>producto</b> y <b>servicio</b>, el <b>segundo enfoque</b> fue indagar más respecto a la variable <b>Familia_SERVICIOS</b> y la dividimos en subcategorías.<br />\n",
    "La segunda variable categórica que analizaremos es <b>Sede</b>, donde buscamos describir el rendimiento económico en función de la ubicación geográfica. Con el uso de histogramas pudimos obtener la <b>rentabilidad porcentual periódica</b>.<br />\n",
    "Para la variable <b>Empleado</b> se hizo un análisis similar al anterior, lo que se buscó fue medir el rendimiento y crear una escala de mérito.<br />\n",
    "<br />\n",
    "Se analiza todo el período <b>(2016-2021)</b> y por separado el último tramo <b>(2019-2021)</b>. Lo importante a recalcar es que los gráficos cuyo período en el titulo es (2019-2021) quiere decir que no considera los datos anteriores.\n",
    "</p>\n",
    "\n",
    "<h5><b>¿Cómo funcionan los gráficos interactivos?</b></h5>"
   ]
  },
  {
   "cell_type": "markdown",
   "metadata": {
    "slideshow": {
     "slide_type": "subslide"
    }
   },
   "source": [
    "<h5><b>Gráficos interactivos:</b></h5>\n",
    "<center>\n",
    "    <ul>\n",
    "        <li>Arriba a la derecha tiene la <b>barra de herramientas</b> donde puede escoger entre zoom, pan, descargar imagen png, etc.</li>\n",
    "        <li>La legenda \"variables\" posee la capacidad de activar o desactivar dicha variable <b>haciendo clic</b> sobre su nombre</li>\n",
    "        <li>Si hacemos <b>doble clic</b> sobre alguna variable de la leyenda se desactivarán todas excepto ella</li>\n",
    "        <li>Pasando el puntero del ratón sobre algún elemento del gráfico, nos aparecerá un cartel con la información del elemento</li>\n",
    "    </ul>\n",
    "</center>"
   ]
  },
  {
   "cell_type": "markdown",
   "metadata": {
    "slideshow": {
     "slide_type": "slide"
    }
   },
   "source": [
    "<h2>3. Desarrollo</h2>\n",
    "<ul>\n",
    "    <li>3.1) Ventas totales</li>\n",
    "    <li>3.2) Análisis por Familia o Rubro</li>\n",
    "    <li>3.4) Análisis Sede</li>\n",
    "    <li>3.4) Análisis Empleado</li>\n",
    "</ul>"
   ]
  },
  {
   "cell_type": "markdown",
   "metadata": {
    "slideshow": {
     "slide_type": "slide"
    }
   },
   "source": [
    "<div>\n",
    "    <h5><b>3.1) Ventas Totales</b></h5>\n",
    "    <div><iframe width=\"500px\" height=\"250px\" frameborder=\"0\" scrolling=\"no\" src=\"//plotly.com/~af.st22/17.embed\"></iframe></div>\n",
    "    <div><iframe width=\"500px\" height=\"250px\" frameborder=\"0\" scrolling=\"no\" src=\"//plotly.com/~af.st22/19.embed\"></iframe></div>\n",
    "</div>"
   ]
  },
  {
   "cell_type": "markdown",
   "metadata": {
    "slideshow": {
     "slide_type": "subslide"
    }
   },
   "source": [
    "<div>\n",
    "    <h5><b>3.1) Ventas Totales</b></h5>\n",
    "    <p>Las Ventas totales ascienden los 22M de dólares durante todo el período.<br />La cantidad de ventas promedio rondaba las 6000 transacciones mensuales.<br />El impacto de la pandemia en claro.</p>\n",
    "</div>"
   ]
  },
  {
   "cell_type": "markdown",
   "metadata": {
    "slideshow": {
     "slide_type": "slide"
    }
   },
   "source": [
    "<div>\n",
    "    <h5><b>3.2) Análisis por Familia o Rubro</b></h5>\n",
    "    <table>\n",
    "        <tr>\n",
    "            <td><iframe width=\"450\" height=\"250\" frameborder=\"0\" scrolling=\"no\" src=\"//plotly.com/~af.st22/25.embed\"></iframe></td>\n",
    "            <td><iframe width=\"450\" height=\"250\" frameborder=\"0\" scrolling=\"no\" src=\"//plotly.com/~af.st22/35.embed\"></iframe></td>\n",
    "        </tr>\n",
    "        <tr>\n",
    "            <td><iframe width=\"450\" height=\"250\" frameborder=\"0\" scrolling=\"no\" src=\"//plotly.com/~af.st22/27.embed\"></iframe></td>\n",
    "            <td><iframe width=\"450\" height=\"250\" frameborder=\"0\" scrolling=\"no\" src=\"//plotly.com/~af.st22/29.embed\"></iframe></td>\n",
    "        </tr>\n",
    "    </table>\n",
    "</div>"
   ]
  },
  {
   "cell_type": "markdown",
   "metadata": {
    "slideshow": {
     "slide_type": "subslide"
    }
   },
   "source": [
    "<div>\n",
    "    <h5><b>3.2) Análisis por Familia o Rubro</b></h5>\n",
    "    <div><iframe width=\"500px\" height=\"250px\" frameborder=\"0\" scrolling=\"no\" src=\"//plotly.com/~af.st22/31.embed\"></iframe></div>\n",
    "    <div><iframe width=\"500px\" height=\"250px\" frameborder=\"0\" scrolling=\"no\" src=\"//plotly.com/~af.st22/39.embed\"></iframe></div>\n",
    "</div>"
   ]
  },
  {
   "cell_type": "markdown",
   "metadata": {
    "slideshow": {
     "slide_type": "subslide"
    }
   },
   "source": [
    "<div>\n",
    "    <h5><b>3.2) Análisis por Familia o Rubro</b></h5>\n",
    "    <div><iframe width=\"500px\" height=\"250px\" frameborder=\"0\" scrolling=\"no\" src=\"//plotly.com/~af.st22/41.embed\"></iframe></div>\n",
    "    <div><iframe width=\"500px\" height=\"250px\" frameborder=\"0\" scrolling=\"no\" src=\"//plotly.com/~af.st22/43.embed\"></iframe></div>\n",
    "</div>\n",
    "\n",
    "\"Las sub-categorías de Familia_SERVICIOS no presentan grandes diferencias en el comportamiento de su demanda\""
   ]
  },
  {
   "cell_type": "markdown",
   "metadata": {
    "slideshow": {
     "slide_type": "slide"
    }
   },
   "source": [
    "<div>\n",
    "    <h5><b>3.3) Análisis Sede</b></h5>\n",
    "    <div><iframe width=\"500px\" height=\"250px\" frameborder=\"0\" scrolling=\"no\" src=\"//plotly.com/~af.st22/45.embed\"></iframe></div>\n",
    "    <div><iframe width=\"500px\" height=\"250px\" frameborder=\"0\" scrolling=\"no\" src=\"//plotly.com/~af.st22/47.embed\"></iframe></div>\n",
    "</div>"
   ]
  },
  {
   "cell_type": "markdown",
   "metadata": {
    "slideshow": {
     "slide_type": "subslide"
    }
   },
   "source": [
    "<div>\n",
    "    <h5><b>3.3) Análisis Sede</b></h5>\n",
    "    <div><iframe width=\"500px\" height=\"250px\" frameborder=\"0\" scrolling=\"no\" src=\"//plotly.com/~af.st22/49.embed\"></iframe></div>\n",
    "    <div><iframe width=\"500px\" height=\"250px\" frameborder=\"0\" scrolling=\"no\" src=\"//plotly.com/~af.st22/53.embed\"></iframe></div>\n",
    "</div>"
   ]
  },
  {
   "cell_type": "markdown",
   "metadata": {
    "slideshow": {
     "slide_type": "slide"
    }
   },
   "source": [
    "<div>\n",
    "    <h5><b>3.4) Análisis Empleado</b></h5>\n",
    "    <div><iframe width=\"500px\" height=\"250px\" frameborder=\"0\" scrolling=\"no\" src=\"//plotly.com/~af.st22/55.embed\"></iframe></div>\n",
    "    <div><iframe width=\"500px\" height=\"250px\" frameborder=\"0\" scrolling=\"no\" src=\"//plotly.com/~af.st22/59.embed\"></iframe></div>\n",
    "</div>"
   ]
  },
  {
   "cell_type": "markdown",
   "metadata": {
    "slideshow": {
     "slide_type": "slide"
    }
   },
   "source": [
    "<h2>4. Conclusión</h2>\n",
    "\n",
    "Hola mundo, acá les dejo acceso hacía la presentación técnica y hacia los repositorios de GitHub."
   ]
  },
  {
   "cell_type": "raw",
   "metadata": {
    "slideshow": {
     "slide_type": "skip"
    }
   },
   "source": [
    "LINKS DE TRABAJO\n",
    "\n",
    "1 ventas totales\n",
    "\n",
    "<iframe width=\"765\" height=\"400\" frameborder=\"0\" scrolling=\"no\" src=\"//plotly.com/~af.st22/17.embed\"></iframe>\n",
    "\n",
    "<iframe width=\"765\" height=\"400\" frameborder=\"0\" scrolling=\"no\" src=\"//plotly.com/~af.st22/19.embed\"></iframe>\n",
    "\n",
    "\n",
    "\n",
    "\n",
    "2. Familia\n",
    "\n",
    "<iframe width=\"765\" height=\"400\" frameborder=\"0\" scrolling=\"no\" src=\"//plotly.com/~af.st22/25.embed\"></iframe>\n",
    "\n",
    "<iframe width=\"765\" height=\"400\" frameborder=\"0\" scrolling=\"no\" src=\"//plotly.com/~af.st22/27.embed\"></iframe>\n",
    "\n",
    "\n",
    "\n",
    "<iframe width=\"765\" height=\"400\" frameborder=\"0\" scrolling=\"no\" src=\"//plotly.com/~af.st22/29.embed\"></iframe>\n",
    "\n",
    "texto\n",
    "\n",
    "\n",
    "<iframe width=\"765\" height=\"400\" frameborder=\"0\" scrolling=\"no\" src=\"//plotly.com/~af.st22/31.embed\"></iframe>\n",
    "\n",
    "<iframe width=\"765\" height=\"400\" frameborder=\"0\" scrolling=\"no\" src=\"//plotly.com/~af.st22/39.embed\"></iframe>\n",
    "\n",
    "\"Al parecer Llanta se lleva puesta a las demás variables, pero cuando dividimos entre producto vs servicio vemos como la gran mayoría de los meses Servicios reporta ingresos menores, pero estables.\"\n",
    "\n",
    "cat_2\n",
    "<iframe width=\"765\" height=\"400\" frameborder=\"0\" scrolling=\"no\" src=\"//plotly.com/~af.st22/41.embed\"></iframe>\n",
    "\n",
    "<iframe width=\"765\" height=\"400\" frameborder=\"0\" scrolling=\"no\" src=\"//plotly.com/~af.st22/43.embed\"></iframe>\n",
    "\n",
    "\"Las sub-categorías de Familia_SERVICIOS no presentan grandes diferencias en el comportamiento de su demanda\"\n",
    "\n",
    "\n",
    "\n",
    "\n",
    "3. Sede\n",
    "\n",
    "<iframe width=\"765\" height=\"400\" frameborder=\"0\" scrolling=\"no\" src=\"//plotly.com/~af.st22/45.embed\"></iframe>\n",
    "\n",
    "<iframe width=\"765\" height=\"400\" frameborder=\"0\" scrolling=\"no\" src=\"//plotly.com/~af.st22/47.embed\"></iframe>\n",
    "\n",
    "<iframe width=\"765\" height=\"400\" frameborder=\"0\" scrolling=\"no\" src=\"//plotly.com/~af.st22/49.embed\"></iframe>\n",
    "\n",
    "<iframe width=\"765\" height=\"400\" frameborder=\"0\" scrolling=\"no\" src=\"//plotly.com/~af.st22/53.embed\"></iframe>\n",
    "\n",
    "\n",
    "4. Empleado\n",
    "\n",
    "<iframe width=\"765\" height=\"400\" frameborder=\"0\" scrolling=\"no\" src=\"//plotly.com/~af.st22/55.embed\"></iframe>\n",
    "\n",
    "<iframe width=\"765\" height=\"400\" frameborder=\"0\" scrolling=\"no\" src=\"//plotly.com/~af.st22/59.embed\"></iframe>"
   ]
  },
  {
   "cell_type": "raw",
   "metadata": {
    "slideshow": {
     "slide_type": "skip"
    }
   },
   "source": [
    "BACKUP DE LOS LINKS\n",
    "\n",
    "1 ventas totales\n",
    "\n",
    "<iframe width=\"900\" height=\"800\" frameborder=\"0\" scrolling=\"no\" src=\"//plotly.com/~af.st22/17.embed\"></iframe>\n",
    "\n",
    "<iframe width=\"900\" height=\"800\" frameborder=\"0\" scrolling=\"no\" src=\"//plotly.com/~af.st22/19.embed\"></iframe>\n",
    "\n",
    "\n",
    "\n",
    "\n",
    "2. Familia\n",
    "\n",
    "<iframe width=\"900\" height=\"800\" frameborder=\"0\" scrolling=\"no\" src=\"//plotly.com/~af.st22/25.embed\"></iframe>\n",
    "\n",
    "<iframe width=\"900\" height=\"800\" frameborder=\"0\" scrolling=\"no\" src=\"//plotly.com/~af.st22/27.embed\"></iframe>\n",
    "\n",
    "\n",
    "\n",
    "<iframe width=\"900\" height=\"800\" frameborder=\"0\" scrolling=\"no\" src=\"//plotly.com/~af.st22/29.embed\"></iframe>\n",
    "\n",
    "texto\n",
    "\n",
    "\n",
    "<iframe width=\"900\" height=\"800\" frameborder=\"0\" scrolling=\"no\" src=\"//plotly.com/~af.st22/31.embed\"></iframe>\n",
    "\n",
    "<iframe width=\"900\" height=\"800\" frameborder=\"0\" scrolling=\"no\" src=\"//plotly.com/~af.st22/39.embed\"></iframe>\n",
    "\n",
    "\"Al parecer Llanta se lleva puesta a las demás variables, pero cuando dividimos entre producto vs servicio vemos como la gran mayoría de los meses Servicios reporta ingresos menores, pero estables.\"\n",
    "\n",
    "cat_2\n",
    "<iframe width=\"900\" height=\"800\" frameborder=\"0\" scrolling=\"no\" src=\"//plotly.com/~af.st22/41.embed\"></iframe>\n",
    "\n",
    "<iframe width=\"900\" height=\"800\" frameborder=\"0\" scrolling=\"no\" src=\"//plotly.com/~af.st22/43.embed\"></iframe>\n",
    "\n",
    "\"Las sub-categorías de Familia_SERVICIOS no presentan grandes diferencias en el comportamiento de su demanda\"\n",
    "\n",
    "\n",
    "\n",
    "\n",
    "3. Sede\n",
    "\n",
    "<iframe width=\"900\" height=\"800\" frameborder=\"0\" scrolling=\"no\" src=\"//plotly.com/~af.st22/45.embed\"></iframe>\n",
    "\n",
    "<iframe width=\"900\" height=\"800\" frameborder=\"0\" scrolling=\"no\" src=\"//plotly.com/~af.st22/47.embed\"></iframe>\n",
    "\n",
    "<iframe width=\"900\" height=\"800\" frameborder=\"0\" scrolling=\"no\" src=\"//plotly.com/~af.st22/49.embed\"></iframe>\n",
    "\n",
    "<iframe width=\"900\" height=\"800\" frameborder=\"0\" scrolling=\"no\" src=\"//plotly.com/~af.st22/53.embed\"></iframe>\n",
    "\n",
    "\n",
    "4. Empleado\n",
    "\n",
    "<iframe width=\"900\" height=\"800\" frameborder=\"0\" scrolling=\"no\" src=\"//plotly.com/~af.st22/55.embed\"></iframe>\n",
    "\n",
    "<iframe width=\"900\" height=\"800\" frameborder=\"0\" scrolling=\"no\" src=\"//plotly.com/~af.st22/59.embed\"></iframe>"
   ]
  }
 ],
 "metadata": {
  "celltoolbar": "Slideshow",
  "kernelspec": {
   "display_name": "Python 3 (ipykernel)",
   "language": "python",
   "name": "python3"
  },
  "language_info": {
   "codemirror_mode": {
    "name": "ipython",
    "version": 3
   },
   "file_extension": ".py",
   "mimetype": "text/x-python",
   "name": "python",
   "nbconvert_exporter": "python",
   "pygments_lexer": "ipython3",
   "version": "3.10.2"
  },
  "vscode": {
   "interpreter": {
    "hash": "5a2ff7f99947e9797eb4fb1fda9407182da4294b0e4a1551680e343b78b106b0"
   }
  }
 },
 "nbformat": 4,
 "nbformat_minor": 2
}
